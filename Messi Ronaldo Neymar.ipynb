{
 "cells": [
  {
   "cell_type": "code",
   "execution_count": 1,
   "metadata": {},
   "outputs": [
    {
     "name": "stdout",
     "output_type": "stream",
     "text": [
      "Welcome to this game. \n",
      "                    Type 1 to proceed: \n",
      "                    Type 2 to quit: 1\n",
      "Type your name: asa\n",
      "Welcome asa\n",
      "Pick a guess between messi, ronaldo and neymar: messi\n",
      "Computer's choice was neymar\n",
      "Computer wins\n",
      "Play again??y\n",
      "Type your name: ronaldo\n",
      "Welcome ronaldo\n",
      "Pick a guess between messi, ronaldo and neymar: ronaldo\n",
      "Computer's choice was messi\n",
      "Computer wins\n",
      "Play again??y\n",
      "Type your name: asa\n",
      "Welcome asa\n",
      "Pick a guess between messi, ronaldo and neymar: ronaldo\n",
      "Computer's choice was messi\n",
      "Computer wins\n",
      "Play again??y\n",
      "Your score:  0 , Computer's score:  3\n"
     ]
    }
   ],
   "source": [
    "import random as r\n",
    "from sys import exit\n",
    "\n",
    "options = [\"messi\", \"ronaldo\", \"neymar\"]\n",
    "\n",
    "def play():\n",
    "    comp_score = 0\n",
    "    player_score = 0\n",
    "    chances = 0\n",
    "    chances_score = 1\n",
    "    play_again =\"yes\"\n",
    "    \n",
    "    login = input(\"\"\"Welcome to this game. \n",
    "                    Type 1 to proceed: \n",
    "                    Type 2 to quit: \"\"\")\n",
    "    \n",
    "    while play_again == \"yes\" or play_again==\"y\":\n",
    "        if chances_score <=3:\n",
    "            if  login == \"1\":\n",
    "                user = input(\"Type your name: \")\n",
    "                print(\"Welcome\", user)\n",
    "                player = input(\"Pick a guess between messi, ronaldo and neymar: \")\n",
    "                comp= r.choice(options)\n",
    "                if comp == player:\n",
    "                    print(\"Computer's choice was\", comp)\n",
    "                    print(\"You win\")\n",
    "                    player_score += 1\n",
    "                    chances_score += 1\n",
    "                    \n",
    "                    play_again = input(\"Play again??\")\n",
    "                elif player not in options:\n",
    "                    print(\"Guess not in options\")\n",
    "                    \n",
    "                    \n",
    "                    play_again = input(\"Play again??\")\n",
    "                else:\n",
    "                    print(\"Computer's choice was\", comp)\n",
    "                    print(\"Computer wins\")\n",
    "                    comp_score +=1\n",
    "                    chances_score += 1\n",
    "                    \n",
    "                    \n",
    "                    play_again = input(\"Play again??\")\n",
    "            elif login ==\"2\":\n",
    "                print(\"Thanks for checking out\")\n",
    "                break\n",
    "            else: \n",
    "                print(\"Invalid command\")\n",
    "                break\n",
    "        else:\n",
    "            print(\"Your score: \", player_score,\",\", \"Computer's score: \", comp_score)\n",
    "            chances_score -= 1\n",
    "            break\n",
    "play()"
   ]
  },
  {
   "cell_type": "code",
   "execution_count": null,
   "metadata": {},
   "outputs": [],
   "source": []
  },
  {
   "cell_type": "code",
   "execution_count": null,
   "metadata": {},
   "outputs": [],
   "source": []
  }
 ],
 "metadata": {
  "kernelspec": {
   "display_name": "Python 3",
   "language": "python",
   "name": "python3"
  },
  "language_info": {
   "codemirror_mode": {
    "name": "ipython",
    "version": 3
   },
   "file_extension": ".py",
   "mimetype": "text/x-python",
   "name": "python",
   "nbconvert_exporter": "python",
   "pygments_lexer": "ipython3",
   "version": "3.7.6"
  }
 },
 "nbformat": 4,
 "nbformat_minor": 4
}
